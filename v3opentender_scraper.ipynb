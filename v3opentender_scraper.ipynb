{
 "cells": [
  {
   "cell_type": "markdown",
   "metadata": {},
   "source": [
    "# Install Library"
   ]
  },
  {
   "cell_type": "code",
   "execution_count": null,
   "metadata": {},
   "outputs": [],
   "source": [
    "! pip install beautifulsoup4\n",
    "! pip install selenium"
   ]
  },
  {
   "cell_type": "code",
   "execution_count": 1,
   "metadata": {},
   "outputs": [],
   "source": [
    "# import library\n",
    "from selenium import webdriver\n",
    "from selenium.webdriver.common.by import By\n",
    "from selenium.webdriver.support.ui import WebDriverWait\n",
    "from selenium.webdriver.support import expected_conditions as EC\n",
    "\n",
    "from bs4 import BeautifulSoup as bs\n",
    "import pandas as pd\n",
    "pd.set_option('display.max_colwidth', 500)"
   ]
  },
  {
   "cell_type": "markdown",
   "metadata": {},
   "source": [
    "# Scraping Tender Data Link"
   ]
  },
  {
   "cell_type": "code",
   "execution_count": 2,
   "metadata": {},
   "outputs": [
    {
     "name": "stderr",
     "output_type": "stream",
     "text": [
      "C:\\Users\\Hanif\\anaconda3\\lib\\site-packages\\selenium\\webdriver\\phantomjs\\webdriver.py:49: UserWarning: Selenium support for PhantomJS has been deprecated, please use headless versions of Chrome or Firefox instead\n",
      "  warnings.warn('Selenium support for PhantomJS has been deprecated, please use headless '\n"
     ]
    }
   ],
   "source": [
    "# open website\n",
    "bot = webdriver.PhantomJS(r'C:\\Users\\Hanif\\Anaconda Projek\\Botika Internship\\Botika\\Project\\Itjip\\phantomjs-2.1.1-windows\\bin\\phantomjs.exe')\n",
    "bot.get('https://v3.opentender.net/#/tender')\n",
    "\n",
    "# find next button of the table\n",
    "btn_next = WebDriverWait(bot,10).until(EC.presence_of_element_located((By.XPATH, \"//*[@id='app']/div[2]/div/div[3]/div/div[2]/div[2]/ul/li[8]/button\")))"
   ]
  },
  {
   "cell_type": "code",
   "execution_count": 3,
   "metadata": {},
   "outputs": [],
   "source": [
    "html = bot.execute_script(\"return document.getElementsByTagName('html')[0].innerHTML\")\n",
    "data = bs(html, 'html.parser')\n",
    "rows = data.find('table', {'class' : 'table table-bordered'})"
   ]
  },
  {
   "cell_type": "markdown",
   "metadata": {},
   "source": [
    "## Jika Belum Punya Linknya"
   ]
  },
  {
   "cell_type": "code",
   "execution_count": 6,
   "metadata": {},
   "outputs": [
    {
     "name": "stdout",
     "output_type": "stream",
     "text": [
      "Proses Scraping Link Open Tender Selesai...\n",
      "Link yang didapatkan : 25 data\n",
      "Berikut sample link yang didapatkan : ['https://opentender.net/#/tender-detail/4925', 'https://opentender.net/#/tender-detail/56216']\n"
     ]
    }
   ],
   "source": [
    "open_tender_link_list = []\n",
    "\n",
    "# Scrape dibatasi per halaman\n",
    "jumlah_halaman = 1\n",
    "for i in range(jumlah_halaman):\n",
    "    for link in rows.find_all('a', href=True):\n",
    "        if 'tender-detail' in str(link):\n",
    "            open_tender_link_list.append('https://opentender.net/'+link['href'])\n",
    "    btn_next.click()\n",
    "\n",
    "# Scrape semua halaman\n",
    "# while btn_next.is_enabled():\n",
    "#     for link in rows.find_all('a', href=True):\n",
    "#         if 'tender-detail' in str(link):\n",
    "#             open_tender_link_list.append('https://opentender.net/'+link['href'])\n",
    "#     btn_next.click()\n",
    "# Last Page\n",
    "# for link in rows.find_all('a', href=True):\n",
    "#         if 'tender-detail' in str(link):\n",
    "#             open_tender_link_list.append('https://opentender.net/'+link['href'])\n",
    "\n",
    "print('Proses Scraping Link Open Tender Selesai...')\n",
    "print('Link yang didapatkan : ' + str(len(open_tender_link_list)) + ' data')\n",
    "print('Berikut sample link yang didapatkan : ' + str(open_tender_link_list[:2]))"
   ]
  },
  {
   "cell_type": "code",
   "execution_count": 18,
   "metadata": {},
   "outputs": [],
   "source": [
    "with open('tender_link.txt', 'w+') as f:\n",
    "    for link in open_tender_link_list:\n",
    "        f.write(\"%s \\n\" % link)"
   ]
  },
  {
   "cell_type": "markdown",
   "metadata": {},
   "source": [
    "## Jika sudah punya daftar linknya"
   ]
  },
  {
   "cell_type": "code",
   "execution_count": 19,
   "metadata": {},
   "outputs": [],
   "source": [
    "link_data = open('tender_link.txt','r+').readlines()\n",
    "for link in link_data:\n",
    "    link = link.strip()\n",
    "    open_tender_link_list.append(link)"
   ]
  },
  {
   "cell_type": "code",
   "execution_count": 21,
   "metadata": {},
   "outputs": [
    {
     "data": {
      "text/plain": [
       "['https://opentender.net/#/tender-detail/94097',\n",
       " 'https://opentender.net/#/tender-detail/96361',\n",
       " 'https://opentender.net/#/tender-detail/98060',\n",
       " 'https://opentender.net/#/tender-detail/98728']"
      ]
     },
     "execution_count": 21,
     "metadata": {},
     "output_type": "execute_result"
    }
   ],
   "source": [
    "open_tender_link_list[-4:]"
   ]
  },
  {
   "cell_type": "markdown",
   "metadata": {},
   "source": [
    "# Scrape Data per Tender"
   ]
  },
  {
   "cell_type": "code",
   "execution_count": 5,
   "metadata": {},
   "outputs": [
    {
     "name": "stdout",
     "output_type": "stream",
     "text": [
      "Geting data from : https://opentender.net/#/tender-detail/4925 please wait...\n",
      "found 22 datas in https://opentender.net/#/tender-detail/4925\n",
      " \n",
      "Geting data from : https://opentender.net/#/tender-detail/56216 please wait...\n",
      "found 22 datas in https://opentender.net/#/tender-detail/56216\n",
      " \n",
      "Geting data from : https://opentender.net/#/tender-detail/59119 please wait...\n",
      "found 22 datas in https://opentender.net/#/tender-detail/59119\n",
      " \n",
      "Geting data from : https://opentender.net/#/tender-detail/62181 please wait...\n",
      "found 22 datas in https://opentender.net/#/tender-detail/62181\n",
      " \n",
      "Geting data from : https://opentender.net/#/tender-detail/65019 please wait...\n",
      "found 36 datas in https://opentender.net/#/tender-detail/65019\n",
      " \n",
      "Geting data from : https://opentender.net/#/tender-detail/70725 please wait...\n",
      "found 22 datas in https://opentender.net/#/tender-detail/70725\n",
      " \n",
      "Geting data from : https://opentender.net/#/tender-detail/71271 please wait...\n",
      "found 3 datas in https://opentender.net/#/tender-detail/71271\n",
      " \n",
      "Geting data from : https://opentender.net/#/tender-detail/71432 please wait...\n",
      "found 22 datas in https://opentender.net/#/tender-detail/71432\n",
      " \n",
      "Geting data from : https://opentender.net/#/tender-detail/73772 please wait...\n",
      "found 36 datas in https://opentender.net/#/tender-detail/73772\n",
      " \n",
      "Geting data from : https://opentender.net/#/tender-detail/78237 please wait...\n",
      "found 3 datas in https://opentender.net/#/tender-detail/78237\n",
      " \n",
      "Geting data from : https://opentender.net/#/tender-detail/79127 please wait...\n",
      "found 3 datas in https://opentender.net/#/tender-detail/79127\n",
      " \n",
      "Geting data from : https://opentender.net/#/tender-detail/79360 please wait...\n",
      "found 3 datas in https://opentender.net/#/tender-detail/79360\n",
      " \n",
      "Geting data from : https://opentender.net/#/tender-detail/79903 please wait...\n",
      "found 22 datas in https://opentender.net/#/tender-detail/79903\n",
      " \n",
      "Geting data from : https://opentender.net/#/tender-detail/80224 please wait...\n",
      "found 22 datas in https://opentender.net/#/tender-detail/80224\n",
      " \n",
      "Geting data from : https://opentender.net/#/tender-detail/81337 please wait...\n",
      "found 3 datas in https://opentender.net/#/tender-detail/81337\n",
      " \n",
      "Geting data from : https://opentender.net/#/tender-detail/82891 please wait...\n",
      "found 3 datas in https://opentender.net/#/tender-detail/82891\n",
      " \n",
      "Geting data from : https://opentender.net/#/tender-detail/82937 please wait...\n",
      "found 22 datas in https://opentender.net/#/tender-detail/82937\n",
      " \n",
      "Geting data from : https://opentender.net/#/tender-detail/85320 please wait...\n",
      "found 3 datas in https://opentender.net/#/tender-detail/85320\n",
      " \n",
      "Geting data from : https://opentender.net/#/tender-detail/92057 please wait...\n",
      "found 3 datas in https://opentender.net/#/tender-detail/92057\n",
      " \n",
      "Geting data from : https://opentender.net/#/tender-detail/92155 please wait...\n",
      "found 3 datas in https://opentender.net/#/tender-detail/92155\n",
      " \n",
      "Geting data from : https://opentender.net/#/tender-detail/92350 please wait...\n",
      "found 3 datas in https://opentender.net/#/tender-detail/92350\n",
      " \n",
      "Geting data from : https://opentender.net/#/tender-detail/94097 please wait...\n",
      "found 3 datas in https://opentender.net/#/tender-detail/94097\n",
      " \n",
      "Geting data from : https://opentender.net/#/tender-detail/96361 please wait...\n",
      "found 3 datas in https://opentender.net/#/tender-detail/96361\n",
      " \n",
      "Geting data from : https://opentender.net/#/tender-detail/98060 please wait...\n",
      "found 3 datas in https://opentender.net/#/tender-detail/98060\n",
      " \n",
      "Geting data from : https://opentender.net/#/tender-detail/98728 please wait...\n",
      "found 36 datas in https://opentender.net/#/tender-detail/98728\n",
      " \n"
     ]
    }
   ],
   "source": [
    "tender_datas = []\n",
    "for open_tender in open_tender_link_list:\n",
    "    print('Geting data from : ' + open_tender + ' please wait...')\n",
    "    bot = webdriver.PhantomJS(r'C:\\Users\\Hanif\\Anaconda Projek\\Botika Internship\\Botika\\Project\\Itjip\\phantomjs-2.1.1-windows\\bin\\phantomjs.exe')\n",
    "    bot.get(open_tender)\n",
    "    html = bot.execute_script(\"return document.getElementsByTagName('html')[0].innerHTML\")\n",
    "    tender = bs(html, 'html.parser')\n",
    "    rows = tender.findAll('table', {'class' : ['table table-sm table-striped','table table-sm table-striped col-12 col-sm-6']})\n",
    "    tender_data = []\n",
    "    for row in rows:\n",
    "        for data in row.findAll(['td']):\n",
    "            tender_data.append(data.get_text().strip())\n",
    "    print('found ' + str(len(tender_data)) + ' datas in ' + open_tender)\n",
    "    print(' ')\n",
    "    if len(tender_data) == 22:\n",
    "        tender_datas.append(tender_data)"
   ]
  },
  {
   "cell_type": "code",
   "execution_count": null,
   "metadata": {},
   "outputs": [],
   "source": [
    "print('Terdapat ' + str(len(tender_datas)) + ' data tender yang didapatkan dengan 22 data dalam tender tanpa Rancangan Usulan Pengadaan (RUP)')"
   ]
  },
  {
   "cell_type": "code",
   "execution_count": 9,
   "metadata": {},
   "outputs": [],
   "source": [
    "df_tender = pd.DataFrame(tender_datas)\n",
    "df_tender.columns = ['Nama_Proyek','Provinsi','Kota/Kabupaten','LPSE','SKPD','Agen','Panitia','Peserta/Penawar','Tender_Cepat','Kode_Lelang','Pengumuman','Akhir_Lelang','Tahun_Anggaran','Kategori','Sumber_Dana','Pagu','HPS','Nilai_Penawaran','Nilai_Kontrak','Nama_Pemenang','Direktur','No.NPWP']"
   ]
  },
  {
   "cell_type": "code",
   "execution_count": 12,
   "metadata": {},
   "outputs": [
    {
     "data": {
      "text/html": [
       "<div>\n",
       "<style scoped>\n",
       "    .dataframe tbody tr th:only-of-type {\n",
       "        vertical-align: middle;\n",
       "    }\n",
       "\n",
       "    .dataframe tbody tr th {\n",
       "        vertical-align: top;\n",
       "    }\n",
       "\n",
       "    .dataframe thead th {\n",
       "        text-align: right;\n",
       "    }\n",
       "</style>\n",
       "<table border=\"1\" class=\"dataframe\">\n",
       "  <thead>\n",
       "    <tr style=\"text-align: right;\">\n",
       "      <th></th>\n",
       "      <th>Nama_Proyek</th>\n",
       "      <th>Provinsi</th>\n",
       "      <th>Kota/Kabupaten</th>\n",
       "      <th>LPSE</th>\n",
       "      <th>SKPD</th>\n",
       "      <th>Agen</th>\n",
       "      <th>Panitia</th>\n",
       "      <th>Peserta/Penawar</th>\n",
       "      <th>Tender_Cepat</th>\n",
       "      <th>Kode_Lelang</th>\n",
       "      <th>...</th>\n",
       "      <th>Tahun_Anggaran</th>\n",
       "      <th>Kategori</th>\n",
       "      <th>Sumber_Dana</th>\n",
       "      <th>Pagu</th>\n",
       "      <th>HPS</th>\n",
       "      <th>Nilai_Penawaran</th>\n",
       "      <th>Nilai_Kontrak</th>\n",
       "      <th>Nama_Pemenang</th>\n",
       "      <th>Direktur</th>\n",
       "      <th>No.NPWP</th>\n",
       "    </tr>\n",
       "  </thead>\n",
       "  <tbody>\n",
       "    <tr>\n",
       "      <th>6</th>\n",
       "      <td>Pembangunan Jalan Ruas Jalan Elat - Werka - Wetuar - Tamangil - Weduar Feer (DAK) (3,5 km)</td>\n",
       "      <td>Maluku</td>\n",
       "      <td>Maluku Tenggara (Kab.)</td>\n",
       "      <td>LPSE Kabupaten Maluku Tenggara</td>\n",
       "      <td>-</td>\n",
       "      <td>-</td>\n",
       "      <td>Kelompok Kerja Pengadaan Jasa Konstruksi</td>\n",
       "      <td>2 /\\n                          0</td>\n",
       "      <td>Tidak</td>\n",
       "      <td>1087618</td>\n",
       "      <td>...</td>\n",
       "      <td>2018</td>\n",
       "      <td>Pekerjaan Konstruksi</td>\n",
       "      <td>APBD</td>\n",
       "      <td>Rp 19.630.000.000,00</td>\n",
       "      <td>Rp 19.630.000.000,00</td>\n",
       "      <td>Rp 19.302.000.000,00</td>\n",
       "      <td>Rp 19.302.000.000,00</td>\n",
       "      <td>PT. EVAV BANGUN MANDIRI</td>\n",
       "      <td>-</td>\n",
       "      <td>01.699.991.4-941.000</td>\n",
       "    </tr>\n",
       "    <tr>\n",
       "      <th>7</th>\n",
       "      <td>Peningkatan Jalan Hotmix Ruas Jalan Sp. Elat-Weduar-Tamngil-Weduar Feer (DID)</td>\n",
       "      <td>Maluku</td>\n",
       "      <td>Maluku Tenggara (Kab.)</td>\n",
       "      <td>LPSE Kabupaten Maluku Tenggara</td>\n",
       "      <td>-</td>\n",
       "      <td>-</td>\n",
       "      <td>Kelompok Kerja Pengadaan Jasa Konstruksi</td>\n",
       "      <td>2 /\\n                          0</td>\n",
       "      <td>Tidak</td>\n",
       "      <td>1086618</td>\n",
       "      <td>...</td>\n",
       "      <td>2018</td>\n",
       "      <td>Pekerjaan Konstruksi</td>\n",
       "      <td>APBD</td>\n",
       "      <td>Rp 25.850.000.000,00</td>\n",
       "      <td>Rp 25.850.000.000,00</td>\n",
       "      <td>Rp 25.350.000.000,00</td>\n",
       "      <td>Rp 25.350.000.000,00</td>\n",
       "      <td>PT. EVAV BANGUN MANDIRI</td>\n",
       "      <td>-</td>\n",
       "      <td>01.699.991.4-941.000</td>\n",
       "    </tr>\n",
       "    <tr>\n",
       "      <th>8</th>\n",
       "      <td>Konstruksi Peningkatan Jalan Menuju Bandara Long Ampung Kec. Kayan Selatan (DAK PENUGASAN)</td>\n",
       "      <td>Kalimantan Timur</td>\n",
       "      <td>Malinau (Kab.)</td>\n",
       "      <td>LPSE Kabupaten Malinau</td>\n",
       "      <td>-</td>\n",
       "      <td>-</td>\n",
       "      <td>POKJA I</td>\n",
       "      <td>5 /\\n                          0</td>\n",
       "      <td>Tidak</td>\n",
       "      <td>1989321</td>\n",
       "      <td>...</td>\n",
       "      <td>2018</td>\n",
       "      <td>Pekerjaan Konstruksi</td>\n",
       "      <td>APBD</td>\n",
       "      <td>Rp 16.618.500.000,00</td>\n",
       "      <td>Rp 16.618.500.000,00</td>\n",
       "      <td>Rp 16.566.473.121,00</td>\n",
       "      <td>Rp 16.566.473.121,00</td>\n",
       "      <td>PT. BAHTRA INDAH JAYA</td>\n",
       "      <td>-</td>\n",
       "      <td>02.088.734.5-727.000</td>\n",
       "    </tr>\n",
       "  </tbody>\n",
       "</table>\n",
       "<p>3 rows × 22 columns</p>\n",
       "</div>"
      ],
      "text/plain": [
       "                                                                                  Nama_Proyek  \\\n",
       "6  Pembangunan Jalan Ruas Jalan Elat - Werka - Wetuar - Tamangil - Weduar Feer (DAK) (3,5 km)   \n",
       "7               Peningkatan Jalan Hotmix Ruas Jalan Sp. Elat-Weduar-Tamngil-Weduar Feer (DID)   \n",
       "8  Konstruksi Peningkatan Jalan Menuju Bandara Long Ampung Kec. Kayan Selatan (DAK PENUGASAN)   \n",
       "\n",
       "           Provinsi          Kota/Kabupaten                            LPSE  \\\n",
       "6            Maluku  Maluku Tenggara (Kab.)  LPSE Kabupaten Maluku Tenggara   \n",
       "7            Maluku  Maluku Tenggara (Kab.)  LPSE Kabupaten Maluku Tenggara   \n",
       "8  Kalimantan Timur          Malinau (Kab.)          LPSE Kabupaten Malinau   \n",
       "\n",
       "  SKPD Agen                                   Panitia  \\\n",
       "6    -    -  Kelompok Kerja Pengadaan Jasa Konstruksi   \n",
       "7    -    -  Kelompok Kerja Pengadaan Jasa Konstruksi   \n",
       "8    -    -                                   POKJA I   \n",
       "\n",
       "                    Peserta/Penawar Tender_Cepat Kode_Lelang  ...  \\\n",
       "6  2 /\\n                          0        Tidak     1087618  ...   \n",
       "7  2 /\\n                          0        Tidak     1086618  ...   \n",
       "8  5 /\\n                          0        Tidak     1989321  ...   \n",
       "\n",
       "  Tahun_Anggaran              Kategori Sumber_Dana                  Pagu  \\\n",
       "6           2018  Pekerjaan Konstruksi        APBD  Rp 19.630.000.000,00   \n",
       "7           2018  Pekerjaan Konstruksi        APBD  Rp 25.850.000.000,00   \n",
       "8           2018  Pekerjaan Konstruksi        APBD  Rp 16.618.500.000,00   \n",
       "\n",
       "                    HPS       Nilai_Penawaran         Nilai_Kontrak  \\\n",
       "6  Rp 19.630.000.000,00  Rp 19.302.000.000,00  Rp 19.302.000.000,00   \n",
       "7  Rp 25.850.000.000,00  Rp 25.350.000.000,00  Rp 25.350.000.000,00   \n",
       "8  Rp 16.618.500.000,00  Rp 16.566.473.121,00  Rp 16.566.473.121,00   \n",
       "\n",
       "             Nama_Pemenang Direktur               No.NPWP  \n",
       "6  PT. EVAV BANGUN MANDIRI        -  01.699.991.4-941.000  \n",
       "7  PT. EVAV BANGUN MANDIRI        -  01.699.991.4-941.000  \n",
       "8    PT. BAHTRA INDAH JAYA        -  02.088.734.5-727.000  \n",
       "\n",
       "[3 rows x 22 columns]"
      ]
     },
     "execution_count": 12,
     "metadata": {},
     "output_type": "execute_result"
    }
   ],
   "source": [
    "df_tender.tail(3)"
   ]
  },
  {
   "cell_type": "code",
   "execution_count": 16,
   "metadata": {},
   "outputs": [],
   "source": [
    "df_tender.to_csv('data_tender.csv', index=False)\n",
    "df_tender.to_excel('data_tender.xlsx', index=False)"
   ]
  }
 ],
 "metadata": {
  "kernelspec": {
   "display_name": "Python 3",
   "language": "python",
   "name": "python3"
  },
  "language_info": {
   "codemirror_mode": {
    "name": "ipython",
    "version": 3
   },
   "file_extension": ".py",
   "mimetype": "text/x-python",
   "name": "python",
   "nbconvert_exporter": "python",
   "pygments_lexer": "ipython3",
   "version": "3.7.6"
  }
 },
 "nbformat": 4,
 "nbformat_minor": 4
}
